{
  "nbformat": 4,
  "nbformat_minor": 0,
  "metadata": {
    "colab": {
      "provenance": [],
      "mount_file_id": "1Sc_oZcb5yDWrNPBjuZH0_L6DHGdWrfW5",
      "authorship_tag": "ABX9TyM5Z7I4EJYzZUg+YeCQ2lJK",
      "include_colab_link": true
    },
    "kernelspec": {
      "name": "python3",
      "display_name": "Python 3"
    },
    "language_info": {
      "name": "python"
    }
  },
  "cells": [
    {
      "cell_type": "markdown",
      "metadata": {
        "id": "view-in-github",
        "colab_type": "text"
      },
      "source": [
        "<a href=\"https://colab.research.google.com/github/Gemy-99/paper-assignment/blob/main/asim_deep_.ipynb\" target=\"_parent\"><img src=\"https://colab.research.google.com/assets/colab-badge.svg\" alt=\"Open In Colab\"/></a>"
      ]
    },
    {
      "cell_type": "code",
      "execution_count": 21,
      "metadata": {
        "id": "6eeOk3G-1NIP"
      },
      "outputs": [],
      "source": [
        "path_train='/content/drive/MyDrive/train'\n",
        "path_test='/content/drive/MyDrive/test'"
      ]
    },
    {
      "cell_type": "code",
      "source": [
        "import pandas as pd\n",
        "import numpy as np\n",
        "import matplotlib.pyplot as plt\n",
        "import os\n",
        "import cv2\n",
        "from tqdm import tqdm\n",
        "import tensorflow as tf\n",
        "from keras.models import Sequential\n",
        "from keras.layers import Dense, Conv2D, MaxPool2D, Flatten, Dropout,MaxPooling2D\n",
        "from keras.callbacks import EarlyStopping\n",
        "from sklearn.preprocessing import StandardScaler\n",
        "from keras.optimizers import Adam\n",
        "import glob as gb\n",
        "from keras.applications.vgg16 import VGG16"
      ],
      "metadata": {
        "id": "ZBZJZEyw1oE2"
      },
      "execution_count": 22,
      "outputs": []
    },
    {
      "cell_type": "code",
      "source": [
        "code = {'Class (1)': 0, 'Class (22)': 1}\n",
        "\n",
        "def getcode(n):\n",
        "    for x, y in code.items():\n",
        "        if n == y:\n",
        "            return x"
      ],
      "metadata": {
        "id": "h7Af4o4m1rrQ"
      },
      "execution_count": 23,
      "outputs": []
    },
    {
      "cell_type": "code",
      "source": [],
      "metadata": {
        "id": "Kwib19Pl1sdY"
      },
      "execution_count": 23,
      "outputs": []
    },
    {
      "cell_type": "code",
      "source": [
        "x_train = []\n",
        "y_train = []\n",
        "img_size = 220\n",
        "\n",
        "for i in os.listdir(path_train):\n",
        "    files = gb.glob(pathname=str(os.path.join(path_train, i, '*.jpg')))\n",
        "\n",
        "    for j in tqdm(files):\n",
        "        image = cv2.imread(j)\n",
        "        image_array = cv2.resize(image, (img_size, img_size))\n",
        "        x_train.append(list(image_array))\n",
        "        y_train.append(code[i])\n",
        "\n",
        "# Convert to numpy arrays\n",
        "x_train = np.array(x_train)\n",
        "y_train = np.array(y_train)\n",
        "print(x_train.shape)\n",
        "print(y_train.shape)"
      ],
      "metadata": {
        "colab": {
          "base_uri": "https://localhost:8080/"
        },
        "id": "-FwpMu_XgShe",
        "outputId": "92fff7a3-17bd-450d-a925-f9f19f7427da"
      },
      "execution_count": 24,
      "outputs": [
        {
          "output_type": "stream",
          "name": "stderr",
          "text": [
            "100%|██████████| 52/52 [00:00<00:00, 320.00it/s]\n",
            "100%|██████████| 52/52 [00:00<00:00, 326.54it/s]"
          ]
        },
        {
          "output_type": "stream",
          "name": "stdout",
          "text": [
            "(104, 220, 220, 3)\n",
            "(104,)\n"
          ]
        },
        {
          "output_type": "stream",
          "name": "stderr",
          "text": [
            "\n"
          ]
        }
      ]
    },
    {
      "cell_type": "code",
      "source": [
        "x_test = []\n",
        "y_test = []\n",
        "img_size = 220\n",
        "for i in os.listdir(path_test):\n",
        "    files = gb.glob(pathname=str(os.path.join(path_test, i, '*.jpg')))\n",
        "\n",
        "    for j in tqdm(files):\n",
        "        image = cv2.imread(j)\n",
        "        image_array = cv2.resize(image, (img_size, img_size))\n",
        "        x_test.append(list(image_array))\n",
        "        y_test.append(code[i])\n",
        "\n",
        "\n",
        "# Convert to numpy arrays\n",
        "x_test = np.array(x_test)\n",
        "y_test = np.array(y_test)\n",
        "print(x_test.shape)\n",
        "print(y_test.shape)"
      ],
      "metadata": {
        "colab": {
          "base_uri": "https://localhost:8080/"
        },
        "id": "wkbKW6Aagbvm",
        "outputId": "68627854-f8d5-46f0-c946-f05822fb56d3"
      },
      "execution_count": 25,
      "outputs": [
        {
          "output_type": "stream",
          "name": "stderr",
          "text": [
            "100%|██████████| 12/12 [00:00<00:00, 393.61it/s]\n",
            "100%|██████████| 12/12 [00:00<00:00, 289.11it/s]"
          ]
        },
        {
          "output_type": "stream",
          "name": "stdout",
          "text": [
            "(24, 220, 220, 3)\n",
            "(24,)\n"
          ]
        },
        {
          "output_type": "stream",
          "name": "stderr",
          "text": [
            "\n"
          ]
        }
      ]
    },
    {
      "cell_type": "code",
      "source": [
        "model_vgg16 = VGG16(weights=\"imagenet\", include_top=False, input_shape=(img_size, img_size, 3))\n",
        "model = Sequential()\n",
        "\n",
        "for layer in model_vgg16.layers:\n",
        "  model.add(layer)\n",
        "\n",
        "for layer in model.layers:\n",
        "  layer.trainable = False # Not trainable weights\n",
        "\n",
        "model.add(Flatten())\n",
        "model.add(Dense(512, activation='relu'))\n",
        "model.add(Dropout(0.5))\n",
        "model.add(Dense(512, activation='relu'))\n",
        "model.add(Dropout(0.5))\n",
        "model.add(Dense(1, activation='sigmoid'))\n",
        "model.summary()"
      ],
      "metadata": {
        "colab": {
          "base_uri": "https://localhost:8080/"
        },
        "id": "F9KTlqmHit02",
        "outputId": "083cad95-ed14-4cef-b2a8-55c093eeeb02"
      },
      "execution_count": 26,
      "outputs": [
        {
          "output_type": "stream",
          "name": "stdout",
          "text": [
            "Model: \"sequential_1\"\n",
            "_________________________________________________________________\n",
            " Layer (type)                Output Shape              Param #   \n",
            "=================================================================\n",
            " block1_conv1 (Conv2D)       (None, 220, 220, 64)      1792      \n",
            "                                                                 \n",
            " block1_conv2 (Conv2D)       (None, 220, 220, 64)      36928     \n",
            "                                                                 \n",
            " block1_pool (MaxPooling2D)  (None, 110, 110, 64)      0         \n",
            "                                                                 \n",
            " block2_conv1 (Conv2D)       (None, 110, 110, 128)     73856     \n",
            "                                                                 \n",
            " block2_conv2 (Conv2D)       (None, 110, 110, 128)     147584    \n",
            "                                                                 \n",
            " block2_pool (MaxPooling2D)  (None, 55, 55, 128)       0         \n",
            "                                                                 \n",
            " block3_conv1 (Conv2D)       (None, 55, 55, 256)       295168    \n",
            "                                                                 \n",
            " block3_conv2 (Conv2D)       (None, 55, 55, 256)       590080    \n",
            "                                                                 \n",
            " block3_conv3 (Conv2D)       (None, 55, 55, 256)       590080    \n",
            "                                                                 \n",
            " block3_pool (MaxPooling2D)  (None, 27, 27, 256)       0         \n",
            "                                                                 \n",
            " block4_conv1 (Conv2D)       (None, 27, 27, 512)       1180160   \n",
            "                                                                 \n",
            " block4_conv2 (Conv2D)       (None, 27, 27, 512)       2359808   \n",
            "                                                                 \n",
            " block4_conv3 (Conv2D)       (None, 27, 27, 512)       2359808   \n",
            "                                                                 \n",
            " block4_pool (MaxPooling2D)  (None, 13, 13, 512)       0         \n",
            "                                                                 \n",
            " block5_conv1 (Conv2D)       (None, 13, 13, 512)       2359808   \n",
            "                                                                 \n",
            " block5_conv2 (Conv2D)       (None, 13, 13, 512)       2359808   \n",
            "                                                                 \n",
            " block5_conv3 (Conv2D)       (None, 13, 13, 512)       2359808   \n",
            "                                                                 \n",
            " block5_pool (MaxPooling2D)  (None, 6, 6, 512)         0         \n",
            "                                                                 \n",
            " flatten_1 (Flatten)         (None, 18432)             0         \n",
            "                                                                 \n",
            " dense_3 (Dense)             (None, 512)               9437696   \n",
            "                                                                 \n",
            " dropout_2 (Dropout)         (None, 512)               0         \n",
            "                                                                 \n",
            " dense_4 (Dense)             (None, 512)               262656    \n",
            "                                                                 \n",
            " dropout_3 (Dropout)         (None, 512)               0         \n",
            "                                                                 \n",
            " dense_5 (Dense)             (None, 1)                 513       \n",
            "                                                                 \n",
            "=================================================================\n",
            "Total params: 24415553 (93.14 MB)\n",
            "Trainable params: 9700865 (37.01 MB)\n",
            "Non-trainable params: 14714688 (56.13 MB)\n",
            "_________________________________________________________________\n"
          ]
        }
      ]
    },
    {
      "cell_type": "code",
      "source": [
        "model.compile(optimizer = 'adam',loss = 'binary_crossentropy',metrics = ['accuracy'])"
      ],
      "metadata": {
        "id": "_9n4tQ1YUNKd"
      },
      "execution_count": 27,
      "outputs": []
    },
    {
      "cell_type": "code",
      "source": [
        "early_stopping_monitor = EarlyStopping(patience = 2)\n",
        "history = model.fit(x_train,y_train,epochs = 5,batch_size = 32, callbacks = [early_stopping_monitor])"
      ],
      "metadata": {
        "colab": {
          "base_uri": "https://localhost:8080/"
        },
        "id": "9JPo9eUrUF3g",
        "outputId": "8493c538-195a-43fd-cfb5-581bc7a18f99"
      },
      "execution_count": 28,
      "outputs": [
        {
          "output_type": "stream",
          "name": "stdout",
          "text": [
            "Epoch 1/5\n",
            "4/4 [==============================] - ETA: 0s - loss: 5.0041 - accuracy: 0.6058 "
          ]
        },
        {
          "output_type": "stream",
          "name": "stderr",
          "text": [
            "WARNING:tensorflow:Early stopping conditioned on metric `val_loss` which is not available. Available metrics are: loss,accuracy\n"
          ]
        },
        {
          "output_type": "stream",
          "name": "stdout",
          "text": [
            "\b\b\b\b\b\b\b\b\b\b\b\b\b\b\b\b\b\b\b\b\b\b\b\b\b\b\b\b\b\b\b\b\b\b\b\b\b\b\b\b\b\b\b\b\b\b\b\b\b\b\b\b\b\b\b\b\b\b\b\b\b\b\b\b\b\b\b\b\b\b\b\b\b\b\b\b\b\b\b\b\r4/4 [==============================] - 67s 15s/step - loss: 5.0041 - accuracy: 0.6058\n",
            "Epoch 2/5\n",
            "4/4 [==============================] - ETA: 0s - loss: 1.2087 - accuracy: 0.9038 "
          ]
        },
        {
          "output_type": "stream",
          "name": "stderr",
          "text": [
            "WARNING:tensorflow:Early stopping conditioned on metric `val_loss` which is not available. Available metrics are: loss,accuracy\n"
          ]
        },
        {
          "output_type": "stream",
          "name": "stdout",
          "text": [
            "\b\b\b\b\b\b\b\b\b\b\b\b\b\b\b\b\b\b\b\b\b\b\b\b\b\b\b\b\b\b\b\b\b\b\b\b\b\b\b\b\b\b\b\b\b\b\b\b\b\b\b\b\b\b\b\b\b\b\b\b\b\b\b\b\b\b\b\b\b\b\b\b\b\b\b\b\b\b\b\b\r4/4 [==============================] - 61s 14s/step - loss: 1.2087 - accuracy: 0.9038\n",
            "Epoch 3/5\n",
            "4/4 [==============================] - ETA: 0s - loss: 1.5369 - accuracy: 0.9231 "
          ]
        },
        {
          "output_type": "stream",
          "name": "stderr",
          "text": [
            "WARNING:tensorflow:Early stopping conditioned on metric `val_loss` which is not available. Available metrics are: loss,accuracy\n"
          ]
        },
        {
          "output_type": "stream",
          "name": "stdout",
          "text": [
            "\b\b\b\b\b\b\b\b\b\b\b\b\b\b\b\b\b\b\b\b\b\b\b\b\b\b\b\b\b\b\b\b\b\b\b\b\b\b\b\b\b\b\b\b\b\b\b\b\b\b\b\b\b\b\b\b\b\b\b\b\b\b\b\b\b\b\b\b\b\b\b\b\b\b\b\b\b\b\b\b\r4/4 [==============================] - 62s 14s/step - loss: 1.5369 - accuracy: 0.9231\n",
            "Epoch 4/5\n",
            "4/4 [==============================] - ETA: 0s - loss: 1.5268e-15 - accuracy: 1.0000 "
          ]
        },
        {
          "output_type": "stream",
          "name": "stderr",
          "text": [
            "WARNING:tensorflow:Early stopping conditioned on metric `val_loss` which is not available. Available metrics are: loss,accuracy\n"
          ]
        },
        {
          "output_type": "stream",
          "name": "stdout",
          "text": [
            "\b\b\b\b\b\b\b\b\b\b\b\b\b\b\b\b\b\b\b\b\b\b\b\b\b\b\b\b\b\b\b\b\b\b\b\b\b\b\b\b\b\b\b\b\b\b\b\b\b\b\b\b\b\b\b\b\b\b\b\b\b\b\b\b\b\b\b\b\b\b\b\b\b\b\b\b\b\b\b\b\b\b\b\b\r4/4 [==============================] - 64s 15s/step - loss: 1.5268e-15 - accuracy: 1.0000\n",
            "Epoch 5/5\n",
            "4/4 [==============================] - ETA: 0s - loss: 8.7332e-04 - accuracy: 1.0000 "
          ]
        },
        {
          "output_type": "stream",
          "name": "stderr",
          "text": [
            "WARNING:tensorflow:Early stopping conditioned on metric `val_loss` which is not available. Available metrics are: loss,accuracy\n"
          ]
        },
        {
          "output_type": "stream",
          "name": "stdout",
          "text": [
            "\b\b\b\b\b\b\b\b\b\b\b\b\b\b\b\b\b\b\b\b\b\b\b\b\b\b\b\b\b\b\b\b\b\b\b\b\b\b\b\b\b\b\b\b\b\b\b\b\b\b\b\b\b\b\b\b\b\b\b\b\b\b\b\b\b\b\b\b\b\b\b\b\b\b\b\b\b\b\b\b\b\b\b\b\r4/4 [==============================] - 61s 14s/step - loss: 8.7332e-04 - accuracy: 1.0000\n"
          ]
        }
      ]
    },
    {
      "cell_type": "code",
      "source": [
        "model.evaluate(x_test,y_test.astype('float32'))"
      ],
      "metadata": {
        "colab": {
          "base_uri": "https://localhost:8080/"
        },
        "id": "lLUxRrXeovVp",
        "outputId": "407b6361-f3e8-4992-e22b-3b5614034bdd"
      },
      "execution_count": 29,
      "outputs": [
        {
          "output_type": "stream",
          "name": "stdout",
          "text": [
            "1/1 [==============================] - 15s 15s/step - loss: 3.3106e-04 - accuracy: 1.0000\n"
          ]
        },
        {
          "output_type": "execute_result",
          "data": {
            "text/plain": [
              "[0.00033105883630923927, 1.0]"
            ]
          },
          "metadata": {},
          "execution_count": 29
        }
      ]
    }
  ]
}